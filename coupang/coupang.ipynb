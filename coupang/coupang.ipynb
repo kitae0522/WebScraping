{
 "metadata": {
  "language_info": {
   "codemirror_mode": {
    "name": "ipython",
    "version": 3
   },
   "file_extension": ".py",
   "mimetype": "text/x-python",
   "name": "python",
   "nbconvert_exporter": "python",
   "pygments_lexer": "ipython3",
   "version": "3.6.1-final"
  },
  "orig_nbformat": 2,
  "kernelspec": {
   "name": "Python 3.6.1 64-bit",
   "display_name": "Python 3.6.1 64-bit",
   "metadata": {
    "interpreter": {
     "hash": "ce20bf81935089791d8a88cb6f56354c311b3f69d023a2e63b224517daa2f3ad"
    }
   }
  }
 },
 "nbformat": 4,
 "nbformat_minor": 2,
 "cells": [
  {
   "cell_type": "code",
   "execution_count": 1,
   "metadata": {},
   "outputs": [],
   "source": [
    "from bs4 import BeautifulSoup\n",
    "import requests as req"
   ]
  },
  {
   "cell_type": "code",
   "execution_count": 2,
   "metadata": {},
   "outputs": [],
   "source": [
    "words = \"WH-1000XM4\"\n",
    "url = \"https://www.coupang.com/np/search?component=&q=\" + words"
   ]
  },
  {
   "cell_type": "code",
   "execution_count": 3,
   "metadata": {},
   "outputs": [],
   "source": [
    "headers = {\n",
    "    \"User-Agent\": \"Mozilla/5.0 (Windows NT 10.0; Win64; x64) AppleWebKit/537.36 (KHTML, like Gecko) Chrome/86.0.4240.99 Safari/537.36\"\n",
    "}"
   ]
  },
  {
   "cell_type": "code",
   "execution_count": 4,
   "metadata": {},
   "outputs": [],
   "source": [
    "html = req.get(url, headers=headers)\n",
    "soup = BeautifulSoup(html.content, 'html.parser')"
   ]
  },
  {
   "cell_type": "code",
   "execution_count": 5,
   "metadata": {},
   "outputs": [],
   "source": [
    "res = {}\n",
    "cnt = 0\n",
    "\n",
    "li = soup.find(\"ul\", {\"id\": \"productList\"}).findAll(\"li\")\n",
    "for i in li:\n",
    "    product = i.find(\"div\", {\"class\": \"name\"}).text\n",
    "    price = i.find(\"strong\", {\"class\": \"price-value\"}).text\n",
    "    if li[cnt]:\n",
    "        res[product] = price + \"원\"\n",
    "    cnt += 1"
   ]
  },
  {
   "cell_type": "code",
   "execution_count": 6,
   "metadata": {},
   "outputs": [
    {
     "output_type": "execute_result",
     "data": {
      "text/plain": [
       "{'MPOW 엠포우 H21 노이즈캔슬링 블루투스 헤드폰, MPBH398AB': '89,000원',\n",
       " '소니 블루투스 노이즈캔슬링 헤드폰, 블랙, WH-1000XM4': '398,100원',\n",
       " 'SONY 소니 블루투스 헤드폰 WH-1000XM4Y 블루투스헤드폰, SONY WH-1000XM4 BM, 블랙': '586,640원',\n",
       " '소니 / 소니 WH-1000XM3 헤드 마운트 무선 블루투스 노이즈 캔슬링 헤드폰 Dafa 1000xm4 4 세대, 1000XM3 Black Country Bank 개장, 1000XM3 Black Country Bank 개장': '312,200원',\n",
       " '버디폰 코스모스 어린이 블루투스 헤드폰 + EVA 파우치케이스, UNICORN Pink, COSMOS-UNICORN': '123,960원',\n",
       " '버디폰 코스모스ANC 어린이용 블루투스 헤드폰, 드래곤 다크블루, 단일상품': '124,020원',\n",
       " '소니 WH-1000XM4 무선 업계 선도적인 소음 취소 오버헤드 헤드폰(Mic과 전화 통화 및 알렉사 음성 제어용), 단일옵션, 단일옵션': '840,200원',\n",
       " 'Sony / Sony WH-1000XM3 헤드 마운트 무선 블루투스 소음 제거 헤드폰 Dafa 1000xM4 3 세대 또는 4 세대, National Bank WH-1000X M4 블랙 + 송장 + 선물, National Bank WH-1000X M4 블랙 + 송장 + 선물': '588,000원',\n",
       " '가우넷 Kiss 노이즈 캔슬링 블루투스 유무선 오버이어 헤드폰, 블랙, H78N': '75,560원',\n",
       " '소니 WH-1000XM4 무선 소음 차단 헤드폰 블루투스 노이즈 캔슬링 Q, 베이지': '499,000원',\n",
       " 'SONY 소니 블루투스 헤드폰 WH-1000XM4Y 블루투스헤드폰, SONY WH-1000XM4 SM, 실버': '586,640원',\n",
       " '소니 / 소니 WH-1000XM3 헤드 마운트 무선 블루투스 노이즈 캔슬링 헤드폰 Dafa 1000xm4 4 세대, 1000XM3 중국 은행, 1000XM3 중국 은행': '390,200원',\n",
       " '소니 WH-1000XM4 고해상도 헤드 마운트 무선 노이즈 캔슬링 헤드폰, 검정': '730,600원',\n",
       " 'Sony / Sony WH-1000XM3 헤드 마운트 무선 블루투스 소음 제거 헤드폰 Dafa 1000xM4 3 세대 또는 4 세대, National Bank WH-1000X M3 Platinum 및 Silver 2 년 보증, National Bank WH-1000X M3 Platinum 및 Silver 2 년 보증': '387,900원',\n",
       " '소니 (SONY) WH-1000XM4 무선 노이즈 캔슬링 헤드폰 플래그십 오버 이어 스마트 액티브 노이즈 캔슬링, 단일상품, 단일상품': '696,300원',\n",
       " '소니 (SONY) WH-1000XM4 고해상도 헤드 마운트 무선 노이즈 캔슬링 헤드폰 1000XM3 업그레이드 WH-1000XM, 단일상품, 단일상품': '662,700원',\n",
       " '소니 (SONY) WH-1000XM4 고해상도 헤드 마운트 무선 Bluetooth 노이즈 캔슬링 헤드폰 온 이어 헤드폰 스, 단일상품, 단일상품': '662,700원',\n",
       " '소니 (SONY) WH-1000XM4 고해상도 무선 Bluetooth 액티브 노이즈 캔슬링 헤드폰 헤드폰 소니 1000xm4 WH-, 단일상품, 단일상품': '662,700원',\n",
       " 'Sony / Sony WH-1000XM3 헤드 마운트 무선 블루투스 소음 제거 헤드폰 Dafa 1000xM4 3 세대 또는 4 세대, National Bank WH-1000XM3 플래티넘 및 실버 + VAT 송장 2 년 보증, National Bank WH-1000XM3 플래티넘 및 실버 + VAT 송장 2 년 보증': '611,000원',\n",
       " 'Sony / Sony WH1000XM4 고해상도 헤드 마운트 무선 소음 감소 헤드폰 (터치 패널 지능형 소음 감소 및 긴, 단일상품, 단일상품': '662,700원',\n",
       " '소니 (SONY) WH-1000XM4 고해상도 헤드 마운트 무선 노이즈 캔슬링 헤드폰 1000XM3 업그레이드 버전 WH-1, 단일상품, 단일상품': '682,700원',\n",
       " '소니 (SONY) WH-1000XM4 무선 블루투스 액티브 노이즈 캔슬링 헤드폰 Apple Android Black 용 헤드 마운, 단일상품, 단일상품': '662,700원',\n",
       " '소니 (SONY) WH-1000XM4 고해상도 헤드 마운트 무선 블루투스 소음 감소 헤드폰 스마트 소음 감소 1000xm, 단일상품, 단일상품': '662,700원',\n",
       " '[공식 직판] 소니 / 소니 WH-1000XM4 고해상도 헤드 마운트 무선 노이즈 캔슬링 헤드폰, 공식 표준, 플래티넘과 실버': '680,200원',\n",
       " 'Sony / Sony WH-1000XM3 헤드 마운트 무선 블루투스 소음 제거 헤드폰 Dafa 1000xM4 3 세대 또는 4 세대, National Bank WH-1000X M3 Black 2 년 보증, National Bank WH-1000X M3 Black 2 년 보증': '355,700원',\n",
       " 'Sony WH-1000XM4 무선 노이즈 캔슬링 오버 헤드 헤드폰-블랙 (갱신), 단일옵션, 단일옵션': '747,400원',\n",
       " 'Sony (SONY) WH-1000XM4 고해상도 무선 Bluetooth 소음 감소 헤드폰 (1000XM3 업그레이드) 플래티넘 및, 단일상품, 단일상품': '662,700원',\n",
       " 'SONY 소니 WH-1000XM4 고해상도 무선 블루투스 노이즈 감소 헤드폰 (1000XM3 업그레이드) 블랙, 단일상품, 단일상품': '662,700원',\n",
       " '소니 (SONY) WH-1000XM4 고해상도 무선 Bluetooth 노이즈 감소 헤드폰 (1000XM3 업그레이드) 블랙, 단일상품, 단일상품': '662,700원',\n",
       " '소니 (SONY) WH-1000XM4 고해상도 무선 Bluetooth 노이즈 캔슬링 헤드폰 (업그레이드) 플래티넘 및 실버, 단일상품, 단일상품': '638,500원',\n",
       " '소니 (SONY) WH-1000XM4 고해상도 무선 블루투스 액티브 노이즈 캔슬링 헤드폰 헤드폰 소니 1000xm4 WH-1, 단일상품, 단일상품': '662,700원',\n",
       " '소니 WH-1000XM4 고해상도 헤드 마운트 무선 노이즈 캔슬링 헤드폰, 플래티넘과 실버': '730,600원',\n",
       " 'Sony (SONY) WH-1000XM4 헤드 마운트 무선 블루투스 액티브 노이즈 캔슬링 헤드폰 서브 우퍼 컴퓨터 헤드, 단일상품, 단일상품': '640,700원',\n",
       " '[공식 직판] 소니 / 소니 WH-1000XM4 고해상도 헤드 마운트 무선 노이즈 캔슬링 헤드폰, 공식 표준, 검정': '662,700원',\n",
       " '소니 / 소니 WH-1000XM3 헤드 마운트 무선 블루투스 노이즈 캔슬링 헤드폰 Dafa 1000xm4 4 세대, 1000XM3 중국 은행 + VAT 인보이스, 1000XM3 중국 은행 + VAT 인보이스': '401,700원',\n",
       " 'Sony / Sony WH-1000XM3 헤드 마운트 무선 블루투스 소음 제거 헤드폰 Dafa 1000xM4 3 세대 또는 4 세대, National Bank WH-1000XM3 검정 + VAT 송장 2 년 보증, National Bank WH-1000XM3 검정 + VAT 송장 2 년 보증': '376,400원'}"
      ]
     },
     "metadata": {},
     "execution_count": 6
    }
   ],
   "source": [
    "res"
   ]
  },
  {
   "cell_type": "code",
   "execution_count": null,
   "metadata": {},
   "outputs": [],
   "source": []
  }
 ]
}